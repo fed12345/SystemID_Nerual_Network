{
 "cells": [
  {
   "cell_type": "markdown",
   "metadata": {},
   "source": [
    "System ID Nerual Network Assignment"
   ]
  },
  {
   "cell_type": "code",
   "execution_count": null,
   "metadata": {},
   "outputs": [],
   "source": [
    "#imports\n",
    "import numpy as np\n",
    "import matplotlib.pyplot as plt\n",
    "import time\n",
    "import sys\n",
    "import os\n",
    "import control.matlab\n",
    "from load_data import loadData\n",
    "\n",
    "np.random.seed(13)"
   ]
  },
  {
   "cell_type": "markdown",
   "metadata": {},
   "source": [
    "Load the F16 training data"
   ]
  },
  {
   "cell_type": "code",
   "execution_count": null,
   "metadata": {},
   "outputs": [],
   "source": [
    "Cm_t, U_k, Z_k, Cm_v, alpha_v, beta_v = loadData('data/F16traindata_CMabV_2022.csv', 'data/F16validationdata_CMab_2022.csv')"
   ]
  },
  {
   "cell_type": "markdown",
   "metadata": {},
   "source": [
    "Apply Iterative Extended Kalman Filter to the data"
   ]
  },
  {
   "cell_type": "code",
   "execution_count": null,
   "metadata": {},
   "outputs": [],
   "source": [
    "# from state_estimation.MultiState_IEKF import iterativeEKL\n",
    "# alpha_t, beta_t, V_t = iterativeEKL(U_k, Z_k, plotting=False)\n",
    "\n",
    "# np.save('data/alpha_t.npy', alpha_t)\n",
    "# np.save('data/beta_t.npy', beta_t)\n",
    "# np.save('data/V_t.npy', V_t)\n"
   ]
  },
  {
   "cell_type": "markdown",
   "metadata": {},
   "source": [
    "Ordinary least squares estimator"
   ]
  },
  {
   "cell_type": "code",
   "execution_count": null,
   "metadata": {},
   "outputs": [],
   "source": [
    "from state_estimation.OLS import Ols, OlsSpecialValidation\n",
    "\n",
    "#Load data\n",
    "alpha_t = np.load('data/alpha_t.npy')\n",
    "beta_t = np.load('data/beta_t.npy')\n",
    "V_t = np.load('data/V_t.npy')\n",
    "\n",
    "#Define number of states and max order of polynomial\n",
    "n_states = 3\n",
    "n_states_sval = 2\n",
    "m = 9\n",
    "\n",
    "#Divide data into training and validation sets 80 - 20\n",
    "\n",
    "n_t = np.size(alpha_t)\n",
    "n_eval = int(0.8*n_t)\n",
    "n_sval = np.size(alpha_v)\n",
    "\n",
    "alpha_t_eval = alpha_t[0:n_eval]\n",
    "beta_t_eval = beta_t[0:n_eval]\n",
    "V_t_eval = V_t[0:n_eval]\n",
    "Cm_t_eval = Cm_t[0:n_eval]\n",
    "\n",
    "alpha_t_val = alpha_t[n_eval:]\n",
    "beta_t_val = beta_t[n_eval:]\n",
    "V_t_val = V_t[n_eval:]\n",
    "Cm_t_val = Cm_t[n_eval:]\n",
    "\n",
    "n_val = np.size(alpha_t_val)\n",
    "\n",
    "#Create empty arrays to store results\n",
    "theta_val = np.zeros((m*n_states+1,1))\n",
    "MSE_val = np.zeros(m+1)\n",
    "theta_sval = np.zeros((m*n_states_sval+1,1))\n",
    "MSE_sval = np.zeros(m+1)\n",
    "\n",
    "#Run OLS for different orders of polynomial\n",
    "for i in range(1,m+1):\n",
    "    _, MSE_val[i], _, _ = Ols(alpha_t_eval, alpha_t_val, beta_t_eval, beta_t_val, V_t_eval, V_t_val, Cm_t_eval, Cm_t_val, i, n_states)\n",
    "    _, MSE_sval[i] = OlsSpecialValidation(alpha_v, beta_v, Cm_v, i, n_states_sval)\n",
    "\n",
    "plt.figure()\n",
    "plt.plot( np.arange(1,m+1), MSE_val[1:], color = '#00A6D6',label='Mesurments')\n",
    "plt.plot( np.arange(1, m+1), MSE_sval[1:],'r', label='Special Validation')\n",
    "plt.yscale('log')\n",
    "plt.grid()\n",
    "plt.legend()\n",
    "plt.xlabel('Order of polynomial')\n",
    "plt.ylabel('MSE')\n",
    "plt.title('MSE for different orders of polynomial')\n",
    "plt.savefig('plots/Ols_polynomial.eps', format='eps')\n",
    "plt.show()\n",
    "\n",
    "#Best order of polynomial is 2\n",
    "\n"
   ]
  },
  {
   "cell_type": "code",
   "execution_count": null,
   "metadata": {},
   "outputs": [],
   "source": [
    "#Run OLS for best order of polynomial\n",
    "C_m, MSE_val, COV, mean_error = Ols(alpha_t, alpha_t, beta_t, beta_t, V_t, V_t, Cm_t, Cm_t, 4, n_states)\n",
    "C_m_sval, MSE_sval = OlsSpecialValidation(alpha_v, beta_v, Cm_v, 4, n_states_sval)\n",
    "\n",
    "\n",
    "def array_to_latex(arr):\n",
    "    res = '\\\\begin{bmatrix}'\n",
    "    for row in arr:\n",
    "        res += ' & '.join([str(e) for e in row]) + '\\\\\\\\'\n",
    "    res += '\\\\end{bmatrix}'\n",
    "    return res\n",
    "\n",
    "COV= np.around(COV,4)\n",
    "#print( array_to_latex(COV))\n",
    "#TODO: Put measuements (alpha and beta) into validation set polynomial and compare output to output of not special validation polynomial, same input diffrent output\n",
    "#Root mean square error of special validation set\n",
    "C_m_special, _ = OlsSpecialValidation(alpha_t, beta_t, Cm_t, 4, n_states_sval)\n",
    "rms = np.sqrt(np.mean((C_m_special - Cm_t)**2))"
   ]
  },
  {
   "cell_type": "markdown",
   "metadata": {},
   "source": [
    "Radial Base Function Nerural Network"
   ]
  },
  {
   "cell_type": "code",
   "execution_count": null,
   "metadata": {},
   "outputs": [],
   "source": [
    "from rbf_neural_net.rbf import RbfNet\n",
    "\n",
    "inputs_train = np.array([alpha_t_eval, beta_t_eval, V_t_eval]).reshape(3,8000)\n",
    "outputs_train = Cm_t_eval.T\n",
    "\n",
    "inputs_val = np.array([alpha_t_val, beta_t_val, V_t_val]).reshape(3,2001)\n",
    "outputs_val = Cm_t_val.T\n",
    "#Train RBF network with Linear Regression\n",
    "n_hidden = 10\n",
    "trials = 10\n",
    "mse_rbf_lr_val = np.zeros(trials)\n",
    "for i in range(trials):\n",
    "    RbfLR = RbfNet(3,n_hidden,1)\n",
    "    LW = RbfLR.trainLR(inputs_train,outputs_train)\n",
    "\n",
    "    C_m_rbf_lr,mse_rbf_lr= RbfLR.evaluate(inputs_train, outputs_train)\n",
    "    C_m_rbf_lr_val,mse_rbf_lr_val[i] = RbfLR.evaluate(inputs_val, outputs_val)\n",
    "\n",
    "\n"
   ]
  },
  {
   "cell_type": "code",
   "execution_count": null,
   "metadata": {},
   "outputs": [],
   "source": [
    "from rbf_neural_net.rbf_lm import RbfLMnet\n",
    "\n",
    "#Train RBF network with Levenberg-Marquardt\n",
    "n_hidden = 10\n",
    "mse_rbf_lm_val = np.zeros(trials)\n",
    "for i in range(trials):\n",
    "    print(i)\n",
    "    RbfLM = RbfLMnet(3,n_hidden,1)\n",
    "    mu_list,_ = RbfLM.trainLM(inputs_train,outputs_train, 600,  1e-6,  2, adaptive=True, center_init='kmeans')\n",
    "\n",
    "    C_m_rbf_lm, _ = RbfLM.evaluate(inputs_train, outputs_train)\n",
    "    C_m_rbf_lm_val, mse_rbf_lm_val[i] = RbfLM.evaluate(inputs_val, outputs_val)\n",
    "\n",
    "plt.figure()\n",
    "plt.plot(mu_list, color = '#00A6D6')\n",
    "plt.grid()\n",
    "plt.xlabel('Epoch[-]')\n",
    "plt.ylabel('Damping Ratio[-]')\n",
    "\n",
    "\n"
   ]
  },
  {
   "cell_type": "code",
   "execution_count": null,
   "metadata": {},
   "outputs": [],
   "source": [
    "plt.figure()\n",
    "plt.boxplot([mse_rbf_lr_val, mse_rbf_lm_val], labels=['Linear Regression', 'Levenberg-Marquardt'])\n",
    "plt.ylabel('MSE[-]')\n",
    "plt.title('MSE for different training algorithms')\n",
    "plt.grid()\n",
    "plt.savefig('plots/MSE_training_algorithms.eps', format='eps')"
   ]
  },
  {
   "cell_type": "code",
   "execution_count": null,
   "metadata": {},
   "outputs": [],
   "source": [
    "# sensitivity analysis to initial mu value\n",
    "mu_list = np.linspace(0.5,100,20)\n",
    "trials = 20\n",
    "mse_rbf_lm_val_mu = np.zeros(len(mu_list))\n",
    "for j in range(len(mu_list)):\n",
    "    print(j)\n",
    "    for i in range(trials):\n",
    "        RbfLM = RbfLMnet(3,n_hidden,1)\n",
    "        _ , _= RbfLM.trainLM(inputs_train,outputs_train, 600,  1e-6,  mu_list[j], adaptive=False, center_init='kmeans')\n",
    "\n",
    "        C_m_rbf_lm, mse_rbf_lm= RbfLM.evaluate(inputs_train, outputs_train)\n",
    "        C_m_rbf_lm_val_mu, temp = RbfLM.evaluate(inputs_val, outputs_val)\n",
    "        mse_rbf_lm_val_mu[j] += temp \n",
    "    mse_rbf_lm_val_mu[j] /= trials\n",
    "\n",
    "mse_rbf_lm_val_mu_adaptive = np.zeros(len(mu_list))\n",
    "for j in range(len(mu_list)):\n",
    "    print(j)\n",
    "    for i in range(trials):\n",
    "        RbfLM = RbfLMnet(3,n_hidden,1)\n",
    "        _, _ = RbfLM.trainLM(inputs_train,outputs_train, 600,  1e-6,  mu_list[j], adaptive=True, center_init='kmeans')\n",
    "\n",
    "        _, mse_net_lm= RbfLM.evaluate(inputs_train, outputs_train)\n",
    "        C_m_rbf_lm_val_mu, temp = RbfLM.evaluate(inputs_val, outputs_val)\n",
    "        mse_rbf_lm_val_mu_adaptive[j] += temp \n",
    "    mse_rbf_lm_val_mu_adaptive[j] /= trials\n",
    "\n",
    "\n"
   ]
  },
  {
   "cell_type": "code",
   "execution_count": null,
   "metadata": {},
   "outputs": [],
   "source": [
    "\n",
    "plt.figure()\n",
    "plt.plot(mu_list, mse_rbf_lm_val_mu, color = 'r', label= 'Non-adaptive')\n",
    "plt.plot(mu_list, mse_rbf_lm_val_mu_adaptive,  color = '#00A6D6',label= 'Adaptive')\n",
    "plt.grid()\n",
    "plt.xlabel('Initial Damping Ratio[-]')\n",
    "plt.ylabel('MSE[-]')\n",
    "plt.title('MSE for different initial damping ratios')\n",
    "plt.yscale('log')\n",
    "plt.legend()\n",
    "plt.savefig('plots/MSE_initial_damping_ratio.eps', format='eps')\n"
   ]
  },
  {
   "attachments": {},
   "cell_type": "markdown",
   "metadata": {},
   "source": [
    "Optimizing number of neurons"
   ]
  },
  {
   "cell_type": "code",
   "execution_count": null,
   "metadata": {},
   "outputs": [],
   "source": [
    "#Optimize number of neurons for RBF network with Levenberg-Marquardt\n",
    "max_neurons = 60\n",
    "rate = 2\n",
    "mse_rbf_neuron =  np.array([])\n",
    "mse_rbf_neuron_val = np.array([])\n",
    "neurons = np.arange(rate,max_neurons,rate)\n",
    "for n in neurons:\n",
    "    print(n)\n",
    "    RbfLM = RbfLMnet(3,n,1)\n",
    "    _,_ = RbfLM.trainLM(inputs_train,outputs_train, 800,  1e-10,  2, adaptive=True, center_init='kmeans')\n",
    "    _, temp0, = RbfLM.evaluate(inputs_train, outputs_train)\n",
    "    _, temp1 = RbfLM.evaluate(inputs_val, outputs_val)\n",
    "    mse_rbf_neuron = np.append(mse_rbf_neuron, temp0)\n",
    "    mse_rbf_neuron_val = np.append(mse_rbf_neuron_val, temp1)\n"
   ]
  },
  {
   "cell_type": "code",
   "execution_count": null,
   "metadata": {},
   "outputs": [],
   "source": [
    "#Plot MSE for different number of neurons\n",
    "plt.figure()\n",
    "plt.plot(neurons, mse_rbf_neuron,'g' ,label='Training')\n",
    "plt.plot(neurons, mse_rbf_neuron_val, 'r', label='Validation')\n",
    "plt.plot(neurons, mse_rbf_neuron+mse_rbf_neuron_val, color = '#00A6D6', label='Total')\n",
    "plt.title('MSE for different number of neurons')\n",
    "plt.yscale('log')\n",
    "plt.grid()\n",
    "plt.legend()\n",
    "plt.xlabel('Number of neurons[-]')\n",
    "plt.ylabel('MSE[-]')\n",
    "plt.savefig('plots/MSE_neurons.eps', format='eps')\n",
    "\n",
    "# Get index of minimum MSE for all data\n",
    "min_index = np.argmin(mse_rbf_neuron+mse_rbf_neuron_val)\n",
    "print('Minimum MSE for all data is achieved with', neurons[min_index], 'neurons')\n",
    "print('MSE for all data is', mse_rbf_neuron[min_index]+mse_rbf_neuron_val[min_index])"
   ]
  },
  {
   "attachments": {},
   "cell_type": "markdown",
   "metadata": {},
   "source": [
    "Feed Forward Neural Network"
   ]
  },
  {
   "cell_type": "code",
   "execution_count": null,
   "metadata": {},
   "outputs": [],
   "source": [
    "from feed_forward_net.feedforward import FFNet\n",
    "from sklearn import preprocessing\n",
    "\n",
    "#Normalize data input and output\n",
    "input_train_norm = preprocessing.normalize(inputs_train)\n",
    "output_train_norm = outputs_train/ np.linalg.norm(outputs_train)\n",
    "\n",
    "#Normalize Validation data\n",
    "input_val_norm = preprocessing.normalize(inputs_val)\n",
    "output_val_norm = outputs_val/ np.linalg.norm(outputs_val)\n",
    "n_hidden = 20\n"
   ]
  },
  {
   "cell_type": "code",
   "execution_count": null,
   "metadata": {},
   "outputs": [],
   "source": [
    "\n",
    "FFNetBP = FFNet(3,n_hidden,1)\n",
    "_ = FFNetBP.trainBackProp(input_train_norm,output_train_norm, 10000, 1e-2, adaptive = True )\n",
    "\n",
    "C_m_ff_bp, mse_ff_bp= FFNetBP.evaluate(input_train_norm, output_train_norm)\n",
    "C_m_ff_val_bp, mse_ff_val_bp = FFNetBP.evaluate(input_val_norm, output_val_norm)\n",
    "print('MSE for FF network with backpropagation is', mse_ff_bp)\n",
    "print('MSE for FF network with backpropagation on validation data is', mse_ff_val_bp)"
   ]
  },
  {
   "cell_type": "code",
   "execution_count": null,
   "metadata": {},
   "outputs": [],
   "source": [
    "#Run FF netwrok with diffrenet initial damping ratios\n",
    "mu_list = np.linspace(1e-10,1e-2,20)\n",
    "trials = 20\n",
    "\n",
    "mse_ff_bp_val_mu_adaptive = np.zeros(len(mu_list))\n",
    "for j in range(len(mu_list)):\n",
    "    print(j)\n",
    "    for i in range(trials):\n",
    "        FFNet_mu = FFNet(3,n_hidden,1)\n",
    "        _ = FFNet_mu.trainBackProp(input_train_norm,output_train_norm, 5000, mu_list[j], adaptive = True)\n",
    "\n",
    "        _, temp = FFNet_mu.evaluate(input_val_norm, output_val_norm)\n",
    "        mse_ff_bp_val_mu_adaptive[j] += temp \n",
    "    mse_ff_bp_val_mu_adaptive[j] /= trials"
   ]
  },
  {
   "cell_type": "code",
   "execution_count": null,
   "metadata": {},
   "outputs": [],
   "source": [
    "#Plot MSE for different initial damping ratios\n",
    "plt.figure()\n",
    "plt.plot(mu_list, mse_ff_bp_val_mu_adaptive, color = '#00A6D6')\n",
    "plt.grid()\n",
    "plt.xlabel('Initial Damping Ratio[-]')\n",
    "plt.ylabel('MSE[-]')\n",
    "plt.title('MSE for different initial damping ratios')\n",
    "plt.yscale('log')\n",
    "plt.xscale('log')\n",
    "plt.savefig('plots/MSE_initial_damping_ratio_FF.eps', format='eps')"
   ]
  },
  {
   "cell_type": "code",
   "execution_count": 59,
   "metadata": {},
   "outputs": [
    {
     "name": "stderr",
     "output_type": "stream",
     "text": [
      "/Users/Federico/opt/anaconda3/envs/sklearn-env/lib/python3.11/site-packages/sklearn/cluster/_kmeans.py:870: FutureWarning: The default value of `n_init` will change from 10 to 'auto' in 1.4. Set the value of `n_init` explicitly to suppress the warning\n",
      "  warnings.warn(\n"
     ]
    },
    {
     "name": "stdout",
     "output_type": "stream",
     "text": [
      "MSE for FF network with Levenberg-Marquardt is 5.224793143832756e-07\n",
      "MSE for FF network with Levenberg-Marquardt on validation data is 0.266763462145247\n"
     ]
    }
   ],
   "source": [
    "from feed_forward_net.feedforward import FFNet\n",
    "#Train Network with Levenberg-Marquardt\n",
    "n_hidden = 5\n",
    "FFNetLM = FFNet(3,n_hidden,1)\n",
    "_ = FFNetLM.trainLM(input_train_norm, output_train_norm, 8000,  5e-3, adaptive=True)\n",
    "\n",
    "C_m_ff_lm, mse_ff_lm= FFNetLM.evaluate(input_train_norm, output_train_norm)\n",
    "C_m_ff_val_lm, mse_ff_val_lm = FFNetLM.evaluate(input_val_norm, output_val_norm)\n",
    "print('MSE for FF network with Levenberg-Marquardt is', mse_ff_lm)\n",
    "print('MSE for FF network with Levenberg-Marquardt on validation data is', mse_ff_val_lm)"
   ]
  },
  {
   "cell_type": "code",
   "execution_count": null,
   "metadata": {},
   "outputs": [],
   "source": [
    "#Run FF netwrok with diffrenet initial damping ratios\n",
    "mu_list = np.linspace(1e-10,1e-2,20)\n",
    "trials = 20\n",
    "\n",
    "mse_ff_lm_val_mu_adaptive = np.zeros(len(mu_list))\n",
    "for j in range(len(mu_list)):\n",
    "    print(j)\n",
    "    for i in range(trials):\n",
    "        FFNet_mu = FFNet(3,n_hidden,1)\n",
    "        _ = FFNet_mu.trainLM(input_train_norm,output_train_norm, 8000, mu_list[j], adaptive = True)\n",
    "\n",
    "        _, temp = FFNet_mu.evaluate(input_val_norm, output_val_norm)\n",
    "        mse_ff_lm_val_mu_adaptive[j] += temp \n",
    "    mse_ff_lm_val_mu_adaptive[j] /= trials"
   ]
  },
  {
   "cell_type": "code",
   "execution_count": null,
   "metadata": {},
   "outputs": [],
   "source": [
    "#Plot MSE for different initial damping ratios\n",
    "plt.figure()\n",
    "plt.plot(mu_list, mse_ff_lm_val_mu_adaptive, color = '#00A6D6')\n",
    "plt.grid()\n",
    "plt.xlabel('Initial Damping Ratio[-]')\n",
    "plt.ylabel('MSE[-]')\n",
    "plt.title('MSE for different initial damping ratios')\n",
    "plt.yscale('log')\n",
    "plt.xscale('log')\n",
    "plt.savefig('plots/MSE_initial_damping_ratio_FF_LM.eps', format='eps')"
   ]
  },
  {
   "cell_type": "code",
   "execution_count": null,
   "metadata": {},
   "outputs": [],
   "source": [
    "#Optimize number of neurons for FF network with Levenberg-Marquardt and backpropagation\n",
    "max_neurons = 60\n",
    "rate = 2\n",
    "mse_ff_neuron_bp =  np.array([])\n",
    "mse_ff_neuron_bp_val = np.array([])\n",
    "mse_ff_neuron_lm = np.array([])\n",
    "mse_ff_neruon_lm_val = np.array([])\n",
    "neurons = np.arange(rate,max_neurons,rate)\n",
    "for n in neurons:\n",
    "    print(n)\n",
    "    FFNetBP = FFNet(3,n,1)\n",
    "    _ = FFNetBP.trainBackProp(input_train_norm,output_train_norm, 5000, 1e-2, adaptive = True)\n",
    "    _, temp0 = FFNetBP.evaluate(input_train_norm, output_train_norm)\n",
    "    _, temp1 = FFNetBP.evaluate(input_val_norm, output_val_norm)\n",
    "    mse_ff_neuron_bp = np.append(mse_ff_neuron_bp, temp0)\n",
    "    mse_ff_neuron_bp_val = np.append(mse_ff_neuron_bp_val, temp1)\n",
    "\n",
    "    FFNetLM = FFNet(3,n,1)\n",
    "    _ = FFNetLM.trainLM(input_train_norm, output_train_norm, 5000,  1e-3, adaptive=True)\n",
    "    _, temp0 = FFNetLM.evaluate(input_train_norm, output_train_norm)\n",
    "    _, temp1 = FFNetLM.evaluate(input_val_norm, output_val_norm)\n",
    "    mse_ff_neuron_lm = np.append(mse_ff_neuron_lm, temp0)\n",
    "    mse_ff_neruon_lm_val = np.append(mse_ff_neruon_lm_val, temp1)\n",
    "       \n"
   ]
  },
  {
   "cell_type": "code",
   "execution_count": null,
   "metadata": {},
   "outputs": [],
   "source": [
    "#Plot MSE for different number of neurons for FF network with Levenberg-Marquardt and backpropagation in 2 figures\n",
    "plt.figure()\n",
    "plt.plot(neurons[:10], mse_ff_neuron_bp[:10], 'g', label='Training')\n",
    "plt.plot(neurons[:10], mse_ff_neuron_bp_val[:10], 'r', label='Validation')\n",
    "plt.plot(neurons[:10], (mse_ff_neuron_bp+mse_ff_neuron_bp_val)[:10],  color = '#00A6D6', label='Total')\n",
    "plt.grid()\n",
    "plt.legend()\n",
    "plt.xlabel('Number of neurons[-]')\n",
    "plt.ylabel('MSE[-]')\n",
    "plt.title('MSE for FF network with backpropagation')\n",
    "plt.yscale('log')\n",
    "plt.savefig('plots/MSE_neurons_FF_BP.eps', format='eps')\n",
    "\n",
    "plt.figure()\n",
    "plt.plot(neurons, mse_ff_neuron_lm, 'g', label='Training')\n",
    "plt.plot(neurons, mse_ff_neruon_lm_val, 'r', label='Validation')\n",
    "plt.plot(neurons, mse_ff_neuron_lm+mse_ff_neruon_lm_val,  color = '#00A6D6', label='Total')\n",
    "plt.grid()\n",
    "plt.legend()\n",
    "plt.xlabel('Number of neurons[-]')\n",
    "plt.ylabel('MSE[-]')\n",
    "plt.title('MSE for FF network with Levenberg-Marquardt')\n",
    "plt.yscale('log')\n",
    "plt.savefig('plots/MSE_neurons_FF_LM.eps', format='eps')\n",
    "plt.show()"
   ]
  },
  {
   "cell_type": "code",
   "execution_count": 60,
   "metadata": {},
   "outputs": [
    {
     "name": "stderr",
     "output_type": "stream",
     "text": [
      "/Users/Federico/opt/anaconda3/envs/sklearn-env/lib/python3.11/site-packages/sklearn/cluster/_kmeans.py:870: FutureWarning: The default value of `n_init` will change from 10 to 'auto' in 1.4. Set the value of `n_init` explicitly to suppress the warning\n",
      "  warnings.warn(\n",
      "/Users/Federico/opt/anaconda3/envs/sklearn-env/lib/python3.11/site-packages/sklearn/cluster/_kmeans.py:870: FutureWarning: The default value of `n_init` will change from 10 to 'auto' in 1.4. Set the value of `n_init` explicitly to suppress the warning\n",
      "  warnings.warn(\n",
      "/Users/Federico/opt/anaconda3/envs/sklearn-env/lib/python3.11/site-packages/sklearn/cluster/_kmeans.py:870: FutureWarning: The default value of `n_init` will change from 10 to 'auto' in 1.4. Set the value of `n_init` explicitly to suppress the warning\n",
      "  warnings.warn(\n",
      "/Users/Federico/opt/anaconda3/envs/sklearn-env/lib/python3.11/site-packages/sklearn/cluster/_kmeans.py:870: FutureWarning: The default value of `n_init` will change from 10 to 'auto' in 1.4. Set the value of `n_init` explicitly to suppress the warning\n",
      "  warnings.warn(\n",
      "/Users/Federico/opt/anaconda3/envs/sklearn-env/lib/python3.11/site-packages/sklearn/cluster/_kmeans.py:870: FutureWarning: The default value of `n_init` will change from 10 to 'auto' in 1.4. Set the value of `n_init` explicitly to suppress the warning\n",
      "  warnings.warn(\n",
      "/Users/Federico/opt/anaconda3/envs/sklearn-env/lib/python3.11/site-packages/sklearn/cluster/_kmeans.py:870: FutureWarning: The default value of `n_init` will change from 10 to 'auto' in 1.4. Set the value of `n_init` explicitly to suppress the warning\n",
      "  warnings.warn(\n",
      "/Users/Federico/opt/anaconda3/envs/sklearn-env/lib/python3.11/site-packages/sklearn/cluster/_kmeans.py:870: FutureWarning: The default value of `n_init` will change from 10 to 'auto' in 1.4. Set the value of `n_init` explicitly to suppress the warning\n",
      "  warnings.warn(\n",
      "/Users/Federico/opt/anaconda3/envs/sklearn-env/lib/python3.11/site-packages/sklearn/cluster/_kmeans.py:870: FutureWarning: The default value of `n_init` will change from 10 to 'auto' in 1.4. Set the value of `n_init` explicitly to suppress the warning\n",
      "  warnings.warn(\n",
      "/Users/Federico/opt/anaconda3/envs/sklearn-env/lib/python3.11/site-packages/sklearn/cluster/_kmeans.py:870: FutureWarning: The default value of `n_init` will change from 10 to 'auto' in 1.4. Set the value of `n_init` explicitly to suppress the warning\n",
      "  warnings.warn(\n",
      "/Users/Federico/opt/anaconda3/envs/sklearn-env/lib/python3.11/site-packages/sklearn/cluster/_kmeans.py:870: FutureWarning: The default value of `n_init` will change from 10 to 'auto' in 1.4. Set the value of `n_init` explicitly to suppress the warning\n",
      "  warnings.warn(\n",
      "/Users/Federico/opt/anaconda3/envs/sklearn-env/lib/python3.11/site-packages/sklearn/cluster/_kmeans.py:870: FutureWarning: The default value of `n_init` will change from 10 to 'auto' in 1.4. Set the value of `n_init` explicitly to suppress the warning\n",
      "  warnings.warn(\n",
      "/Users/Federico/opt/anaconda3/envs/sklearn-env/lib/python3.11/site-packages/sklearn/cluster/_kmeans.py:870: FutureWarning: The default value of `n_init` will change from 10 to 'auto' in 1.4. Set the value of `n_init` explicitly to suppress the warning\n",
      "  warnings.warn(\n",
      "/Users/Federico/opt/anaconda3/envs/sklearn-env/lib/python3.11/site-packages/sklearn/cluster/_kmeans.py:870: FutureWarning: The default value of `n_init` will change from 10 to 'auto' in 1.4. Set the value of `n_init` explicitly to suppress the warning\n",
      "  warnings.warn(\n",
      "/Users/Federico/opt/anaconda3/envs/sklearn-env/lib/python3.11/site-packages/sklearn/cluster/_kmeans.py:870: FutureWarning: The default value of `n_init` will change from 10 to 'auto' in 1.4. Set the value of `n_init` explicitly to suppress the warning\n",
      "  warnings.warn(\n",
      "/Users/Federico/opt/anaconda3/envs/sklearn-env/lib/python3.11/site-packages/sklearn/cluster/_kmeans.py:870: FutureWarning: The default value of `n_init` will change from 10 to 'auto' in 1.4. Set the value of `n_init` explicitly to suppress the warning\n",
      "  warnings.warn(\n",
      "/Users/Federico/opt/anaconda3/envs/sklearn-env/lib/python3.11/site-packages/sklearn/cluster/_kmeans.py:870: FutureWarning: The default value of `n_init` will change from 10 to 'auto' in 1.4. Set the value of `n_init` explicitly to suppress the warning\n",
      "  warnings.warn(\n",
      "/Users/Federico/opt/anaconda3/envs/sklearn-env/lib/python3.11/site-packages/sklearn/cluster/_kmeans.py:870: FutureWarning: The default value of `n_init` will change from 10 to 'auto' in 1.4. Set the value of `n_init` explicitly to suppress the warning\n",
      "  warnings.warn(\n",
      "/Users/Federico/opt/anaconda3/envs/sklearn-env/lib/python3.11/site-packages/sklearn/cluster/_kmeans.py:870: FutureWarning: The default value of `n_init` will change from 10 to 'auto' in 1.4. Set the value of `n_init` explicitly to suppress the warning\n",
      "  warnings.warn(\n",
      "/Users/Federico/opt/anaconda3/envs/sklearn-env/lib/python3.11/site-packages/sklearn/cluster/_kmeans.py:870: FutureWarning: The default value of `n_init` will change from 10 to 'auto' in 1.4. Set the value of `n_init` explicitly to suppress the warning\n",
      "  warnings.warn(\n",
      "/Users/Federico/opt/anaconda3/envs/sklearn-env/lib/python3.11/site-packages/sklearn/cluster/_kmeans.py:870: FutureWarning: The default value of `n_init` will change from 10 to 'auto' in 1.4. Set the value of `n_init` explicitly to suppress the warning\n",
      "  warnings.warn(\n",
      "/Users/Federico/opt/anaconda3/envs/sklearn-env/lib/python3.11/site-packages/sklearn/cluster/_kmeans.py:870: FutureWarning: The default value of `n_init` will change from 10 to 'auto' in 1.4. Set the value of `n_init` explicitly to suppress the warning\n",
      "  warnings.warn(\n",
      "/Users/Federico/opt/anaconda3/envs/sklearn-env/lib/python3.11/site-packages/sklearn/cluster/_kmeans.py:870: FutureWarning: The default value of `n_init` will change from 10 to 'auto' in 1.4. Set the value of `n_init` explicitly to suppress the warning\n",
      "  warnings.warn(\n",
      "/Users/Federico/opt/anaconda3/envs/sklearn-env/lib/python3.11/site-packages/sklearn/cluster/_kmeans.py:870: FutureWarning: The default value of `n_init` will change from 10 to 'auto' in 1.4. Set the value of `n_init` explicitly to suppress the warning\n",
      "  warnings.warn(\n",
      "/Users/Federico/opt/anaconda3/envs/sklearn-env/lib/python3.11/site-packages/sklearn/cluster/_kmeans.py:870: FutureWarning: The default value of `n_init` will change from 10 to 'auto' in 1.4. Set the value of `n_init` explicitly to suppress the warning\n",
      "  warnings.warn(\n",
      "/Users/Federico/opt/anaconda3/envs/sklearn-env/lib/python3.11/site-packages/sklearn/cluster/_kmeans.py:870: FutureWarning: The default value of `n_init` will change from 10 to 'auto' in 1.4. Set the value of `n_init` explicitly to suppress the warning\n",
      "  warnings.warn(\n",
      "/Users/Federico/opt/anaconda3/envs/sklearn-env/lib/python3.11/site-packages/sklearn/cluster/_kmeans.py:870: FutureWarning: The default value of `n_init` will change from 10 to 'auto' in 1.4. Set the value of `n_init` explicitly to suppress the warning\n",
      "  warnings.warn(\n",
      "/Users/Federico/opt/anaconda3/envs/sklearn-env/lib/python3.11/site-packages/sklearn/cluster/_kmeans.py:870: FutureWarning: The default value of `n_init` will change from 10 to 'auto' in 1.4. Set the value of `n_init` explicitly to suppress the warning\n",
      "  warnings.warn(\n",
      "/Users/Federico/opt/anaconda3/envs/sklearn-env/lib/python3.11/site-packages/sklearn/cluster/_kmeans.py:870: FutureWarning: The default value of `n_init` will change from 10 to 'auto' in 1.4. Set the value of `n_init` explicitly to suppress the warning\n",
      "  warnings.warn(\n",
      "/Users/Federico/opt/anaconda3/envs/sklearn-env/lib/python3.11/site-packages/sklearn/cluster/_kmeans.py:870: FutureWarning: The default value of `n_init` will change from 10 to 'auto' in 1.4. Set the value of `n_init` explicitly to suppress the warning\n",
      "  warnings.warn(\n",
      "/Users/Federico/opt/anaconda3/envs/sklearn-env/lib/python3.11/site-packages/sklearn/cluster/_kmeans.py:870: FutureWarning: The default value of `n_init` will change from 10 to 'auto' in 1.4. Set the value of `n_init` explicitly to suppress the warning\n",
      "  warnings.warn(\n",
      "/Users/Federico/opt/anaconda3/envs/sklearn-env/lib/python3.11/site-packages/sklearn/cluster/_kmeans.py:870: FutureWarning: The default value of `n_init` will change from 10 to 'auto' in 1.4. Set the value of `n_init` explicitly to suppress the warning\n",
      "  warnings.warn(\n",
      "/Users/Federico/opt/anaconda3/envs/sklearn-env/lib/python3.11/site-packages/sklearn/cluster/_kmeans.py:870: FutureWarning: The default value of `n_init` will change from 10 to 'auto' in 1.4. Set the value of `n_init` explicitly to suppress the warning\n",
      "  warnings.warn(\n",
      "/Users/Federico/opt/anaconda3/envs/sklearn-env/lib/python3.11/site-packages/sklearn/cluster/_kmeans.py:870: FutureWarning: The default value of `n_init` will change from 10 to 'auto' in 1.4. Set the value of `n_init` explicitly to suppress the warning\n",
      "  warnings.warn(\n",
      "/Users/Federico/opt/anaconda3/envs/sklearn-env/lib/python3.11/site-packages/sklearn/cluster/_kmeans.py:870: FutureWarning: The default value of `n_init` will change from 10 to 'auto' in 1.4. Set the value of `n_init` explicitly to suppress the warning\n",
      "  warnings.warn(\n",
      "/Users/Federico/opt/anaconda3/envs/sklearn-env/lib/python3.11/site-packages/sklearn/cluster/_kmeans.py:870: FutureWarning: The default value of `n_init` will change from 10 to 'auto' in 1.4. Set the value of `n_init` explicitly to suppress the warning\n",
      "  warnings.warn(\n",
      "/Users/Federico/opt/anaconda3/envs/sklearn-env/lib/python3.11/site-packages/sklearn/cluster/_kmeans.py:870: FutureWarning: The default value of `n_init` will change from 10 to 'auto' in 1.4. Set the value of `n_init` explicitly to suppress the warning\n",
      "  warnings.warn(\n",
      "/Users/Federico/opt/anaconda3/envs/sklearn-env/lib/python3.11/site-packages/sklearn/cluster/_kmeans.py:870: FutureWarning: The default value of `n_init` will change from 10 to 'auto' in 1.4. Set the value of `n_init` explicitly to suppress the warning\n",
      "  warnings.warn(\n",
      "/Users/Federico/opt/anaconda3/envs/sklearn-env/lib/python3.11/site-packages/sklearn/cluster/_kmeans.py:870: FutureWarning: The default value of `n_init` will change from 10 to 'auto' in 1.4. Set the value of `n_init` explicitly to suppress the warning\n",
      "  warnings.warn(\n",
      "/Users/Federico/opt/anaconda3/envs/sklearn-env/lib/python3.11/site-packages/sklearn/cluster/_kmeans.py:870: FutureWarning: The default value of `n_init` will change from 10 to 'auto' in 1.4. Set the value of `n_init` explicitly to suppress the warning\n",
      "  warnings.warn(\n",
      "/Users/Federico/opt/anaconda3/envs/sklearn-env/lib/python3.11/site-packages/sklearn/cluster/_kmeans.py:870: FutureWarning: The default value of `n_init` will change from 10 to 'auto' in 1.4. Set the value of `n_init` explicitly to suppress the warning\n",
      "  warnings.warn(\n",
      "/Users/Federico/opt/anaconda3/envs/sklearn-env/lib/python3.11/site-packages/sklearn/cluster/_kmeans.py:870: FutureWarning: The default value of `n_init` will change from 10 to 'auto' in 1.4. Set the value of `n_init` explicitly to suppress the warning\n",
      "  warnings.warn(\n",
      "/Users/Federico/opt/anaconda3/envs/sklearn-env/lib/python3.11/site-packages/sklearn/cluster/_kmeans.py:870: FutureWarning: The default value of `n_init` will change from 10 to 'auto' in 1.4. Set the value of `n_init` explicitly to suppress the warning\n",
      "  warnings.warn(\n",
      "/Users/Federico/opt/anaconda3/envs/sklearn-env/lib/python3.11/site-packages/sklearn/cluster/_kmeans.py:870: FutureWarning: The default value of `n_init` will change from 10 to 'auto' in 1.4. Set the value of `n_init` explicitly to suppress the warning\n",
      "  warnings.warn(\n",
      "/Users/Federico/opt/anaconda3/envs/sklearn-env/lib/python3.11/site-packages/sklearn/cluster/_kmeans.py:870: FutureWarning: The default value of `n_init` will change from 10 to 'auto' in 1.4. Set the value of `n_init` explicitly to suppress the warning\n",
      "  warnings.warn(\n",
      "/Users/Federico/opt/anaconda3/envs/sklearn-env/lib/python3.11/site-packages/sklearn/cluster/_kmeans.py:870: FutureWarning: The default value of `n_init` will change from 10 to 'auto' in 1.4. Set the value of `n_init` explicitly to suppress the warning\n",
      "  warnings.warn(\n",
      "/Users/Federico/opt/anaconda3/envs/sklearn-env/lib/python3.11/site-packages/sklearn/cluster/_kmeans.py:870: FutureWarning: The default value of `n_init` will change from 10 to 'auto' in 1.4. Set the value of `n_init` explicitly to suppress the warning\n",
      "  warnings.warn(\n",
      "/Users/Federico/opt/anaconda3/envs/sklearn-env/lib/python3.11/site-packages/sklearn/cluster/_kmeans.py:870: FutureWarning: The default value of `n_init` will change from 10 to 'auto' in 1.4. Set the value of `n_init` explicitly to suppress the warning\n",
      "  warnings.warn(\n",
      "/Users/Federico/opt/anaconda3/envs/sklearn-env/lib/python3.11/site-packages/sklearn/cluster/_kmeans.py:870: FutureWarning: The default value of `n_init` will change from 10 to 'auto' in 1.4. Set the value of `n_init` explicitly to suppress the warning\n",
      "  warnings.warn(\n",
      "/Users/Federico/opt/anaconda3/envs/sklearn-env/lib/python3.11/site-packages/sklearn/cluster/_kmeans.py:870: FutureWarning: The default value of `n_init` will change from 10 to 'auto' in 1.4. Set the value of `n_init` explicitly to suppress the warning\n",
      "  warnings.warn(\n",
      "/Users/Federico/opt/anaconda3/envs/sklearn-env/lib/python3.11/site-packages/sklearn/cluster/_kmeans.py:870: FutureWarning: The default value of `n_init` will change from 10 to 'auto' in 1.4. Set the value of `n_init` explicitly to suppress the warning\n",
      "  warnings.warn(\n",
      "/Users/Federico/opt/anaconda3/envs/sklearn-env/lib/python3.11/site-packages/sklearn/cluster/_kmeans.py:870: FutureWarning: The default value of `n_init` will change from 10 to 'auto' in 1.4. Set the value of `n_init` explicitly to suppress the warning\n",
      "  warnings.warn(\n",
      "/Users/Federico/opt/anaconda3/envs/sklearn-env/lib/python3.11/site-packages/sklearn/cluster/_kmeans.py:870: FutureWarning: The default value of `n_init` will change from 10 to 'auto' in 1.4. Set the value of `n_init` explicitly to suppress the warning\n",
      "  warnings.warn(\n",
      "/Users/Federico/opt/anaconda3/envs/sklearn-env/lib/python3.11/site-packages/sklearn/cluster/_kmeans.py:870: FutureWarning: The default value of `n_init` will change from 10 to 'auto' in 1.4. Set the value of `n_init` explicitly to suppress the warning\n",
      "  warnings.warn(\n",
      "/Users/Federico/opt/anaconda3/envs/sklearn-env/lib/python3.11/site-packages/sklearn/cluster/_kmeans.py:870: FutureWarning: The default value of `n_init` will change from 10 to 'auto' in 1.4. Set the value of `n_init` explicitly to suppress the warning\n",
      "  warnings.warn(\n",
      "/Users/Federico/opt/anaconda3/envs/sklearn-env/lib/python3.11/site-packages/sklearn/cluster/_kmeans.py:870: FutureWarning: The default value of `n_init` will change from 10 to 'auto' in 1.4. Set the value of `n_init` explicitly to suppress the warning\n",
      "  warnings.warn(\n",
      "/Users/Federico/opt/anaconda3/envs/sklearn-env/lib/python3.11/site-packages/sklearn/cluster/_kmeans.py:870: FutureWarning: The default value of `n_init` will change from 10 to 'auto' in 1.4. Set the value of `n_init` explicitly to suppress the warning\n",
      "  warnings.warn(\n",
      "/Users/Federico/opt/anaconda3/envs/sklearn-env/lib/python3.11/site-packages/sklearn/cluster/_kmeans.py:870: FutureWarning: The default value of `n_init` will change from 10 to 'auto' in 1.4. Set the value of `n_init` explicitly to suppress the warning\n",
      "  warnings.warn(\n",
      "/Users/Federico/opt/anaconda3/envs/sklearn-env/lib/python3.11/site-packages/sklearn/cluster/_kmeans.py:870: FutureWarning: The default value of `n_init` will change from 10 to 'auto' in 1.4. Set the value of `n_init` explicitly to suppress the warning\n",
      "  warnings.warn(\n",
      "/Users/Federico/opt/anaconda3/envs/sklearn-env/lib/python3.11/site-packages/sklearn/cluster/_kmeans.py:870: FutureWarning: The default value of `n_init` will change from 10 to 'auto' in 1.4. Set the value of `n_init` explicitly to suppress the warning\n",
      "  warnings.warn(\n",
      "/Users/Federico/opt/anaconda3/envs/sklearn-env/lib/python3.11/site-packages/sklearn/cluster/_kmeans.py:870: FutureWarning: The default value of `n_init` will change from 10 to 'auto' in 1.4. Set the value of `n_init` explicitly to suppress the warning\n",
      "  warnings.warn(\n",
      "/Users/Federico/opt/anaconda3/envs/sklearn-env/lib/python3.11/site-packages/sklearn/cluster/_kmeans.py:870: FutureWarning: The default value of `n_init` will change from 10 to 'auto' in 1.4. Set the value of `n_init` explicitly to suppress the warning\n",
      "  warnings.warn(\n",
      "/Users/Federico/opt/anaconda3/envs/sklearn-env/lib/python3.11/site-packages/sklearn/cluster/_kmeans.py:870: FutureWarning: The default value of `n_init` will change from 10 to 'auto' in 1.4. Set the value of `n_init` explicitly to suppress the warning\n",
      "  warnings.warn(\n",
      "/Users/Federico/opt/anaconda3/envs/sklearn-env/lib/python3.11/site-packages/sklearn/cluster/_kmeans.py:870: FutureWarning: The default value of `n_init` will change from 10 to 'auto' in 1.4. Set the value of `n_init` explicitly to suppress the warning\n",
      "  warnings.warn(\n",
      "/Users/Federico/opt/anaconda3/envs/sklearn-env/lib/python3.11/site-packages/sklearn/cluster/_kmeans.py:870: FutureWarning: The default value of `n_init` will change from 10 to 'auto' in 1.4. Set the value of `n_init` explicitly to suppress the warning\n",
      "  warnings.warn(\n",
      "/Users/Federico/opt/anaconda3/envs/sklearn-env/lib/python3.11/site-packages/sklearn/cluster/_kmeans.py:870: FutureWarning: The default value of `n_init` will change from 10 to 'auto' in 1.4. Set the value of `n_init` explicitly to suppress the warning\n",
      "  warnings.warn(\n",
      "/Users/Federico/opt/anaconda3/envs/sklearn-env/lib/python3.11/site-packages/sklearn/cluster/_kmeans.py:870: FutureWarning: The default value of `n_init` will change from 10 to 'auto' in 1.4. Set the value of `n_init` explicitly to suppress the warning\n",
      "  warnings.warn(\n",
      "/Users/Federico/opt/anaconda3/envs/sklearn-env/lib/python3.11/site-packages/sklearn/cluster/_kmeans.py:870: FutureWarning: The default value of `n_init` will change from 10 to 'auto' in 1.4. Set the value of `n_init` explicitly to suppress the warning\n",
      "  warnings.warn(\n",
      "/Users/Federico/opt/anaconda3/envs/sklearn-env/lib/python3.11/site-packages/sklearn/cluster/_kmeans.py:870: FutureWarning: The default value of `n_init` will change from 10 to 'auto' in 1.4. Set the value of `n_init` explicitly to suppress the warning\n",
      "  warnings.warn(\n",
      "/Users/Federico/opt/anaconda3/envs/sklearn-env/lib/python3.11/site-packages/sklearn/cluster/_kmeans.py:870: FutureWarning: The default value of `n_init` will change from 10 to 'auto' in 1.4. Set the value of `n_init` explicitly to suppress the warning\n",
      "  warnings.warn(\n",
      "/Users/Federico/opt/anaconda3/envs/sklearn-env/lib/python3.11/site-packages/sklearn/cluster/_kmeans.py:870: FutureWarning: The default value of `n_init` will change from 10 to 'auto' in 1.4. Set the value of `n_init` explicitly to suppress the warning\n",
      "  warnings.warn(\n",
      "/Users/Federico/opt/anaconda3/envs/sklearn-env/lib/python3.11/site-packages/sklearn/cluster/_kmeans.py:870: FutureWarning: The default value of `n_init` will change from 10 to 'auto' in 1.4. Set the value of `n_init` explicitly to suppress the warning\n",
      "  warnings.warn(\n",
      "/Users/Federico/opt/anaconda3/envs/sklearn-env/lib/python3.11/site-packages/sklearn/cluster/_kmeans.py:870: FutureWarning: The default value of `n_init` will change from 10 to 'auto' in 1.4. Set the value of `n_init` explicitly to suppress the warning\n",
      "  warnings.warn(\n",
      "/Users/Federico/opt/anaconda3/envs/sklearn-env/lib/python3.11/site-packages/sklearn/cluster/_kmeans.py:870: FutureWarning: The default value of `n_init` will change from 10 to 'auto' in 1.4. Set the value of `n_init` explicitly to suppress the warning\n",
      "  warnings.warn(\n",
      "/Users/Federico/opt/anaconda3/envs/sklearn-env/lib/python3.11/site-packages/sklearn/cluster/_kmeans.py:870: FutureWarning: The default value of `n_init` will change from 10 to 'auto' in 1.4. Set the value of `n_init` explicitly to suppress the warning\n",
      "  warnings.warn(\n",
      "/Users/Federico/opt/anaconda3/envs/sklearn-env/lib/python3.11/site-packages/sklearn/cluster/_kmeans.py:870: FutureWarning: The default value of `n_init` will change from 10 to 'auto' in 1.4. Set the value of `n_init` explicitly to suppress the warning\n",
      "  warnings.warn(\n",
      "/Users/Federico/opt/anaconda3/envs/sklearn-env/lib/python3.11/site-packages/sklearn/cluster/_kmeans.py:870: FutureWarning: The default value of `n_init` will change from 10 to 'auto' in 1.4. Set the value of `n_init` explicitly to suppress the warning\n",
      "  warnings.warn(\n",
      "/Users/Federico/opt/anaconda3/envs/sklearn-env/lib/python3.11/site-packages/sklearn/cluster/_kmeans.py:870: FutureWarning: The default value of `n_init` will change from 10 to 'auto' in 1.4. Set the value of `n_init` explicitly to suppress the warning\n",
      "  warnings.warn(\n",
      "/Users/Federico/opt/anaconda3/envs/sklearn-env/lib/python3.11/site-packages/sklearn/cluster/_kmeans.py:870: FutureWarning: The default value of `n_init` will change from 10 to 'auto' in 1.4. Set the value of `n_init` explicitly to suppress the warning\n",
      "  warnings.warn(\n",
      "/Users/Federico/opt/anaconda3/envs/sklearn-env/lib/python3.11/site-packages/sklearn/cluster/_kmeans.py:870: FutureWarning: The default value of `n_init` will change from 10 to 'auto' in 1.4. Set the value of `n_init` explicitly to suppress the warning\n",
      "  warnings.warn(\n",
      "/Users/Federico/opt/anaconda3/envs/sklearn-env/lib/python3.11/site-packages/sklearn/cluster/_kmeans.py:870: FutureWarning: The default value of `n_init` will change from 10 to 'auto' in 1.4. Set the value of `n_init` explicitly to suppress the warning\n",
      "  warnings.warn(\n",
      "/Users/Federico/opt/anaconda3/envs/sklearn-env/lib/python3.11/site-packages/sklearn/cluster/_kmeans.py:870: FutureWarning: The default value of `n_init` will change from 10 to 'auto' in 1.4. Set the value of `n_init` explicitly to suppress the warning\n",
      "  warnings.warn(\n",
      "/Users/Federico/opt/anaconda3/envs/sklearn-env/lib/python3.11/site-packages/sklearn/cluster/_kmeans.py:870: FutureWarning: The default value of `n_init` will change from 10 to 'auto' in 1.4. Set the value of `n_init` explicitly to suppress the warning\n",
      "  warnings.warn(\n",
      "/Users/Federico/opt/anaconda3/envs/sklearn-env/lib/python3.11/site-packages/sklearn/cluster/_kmeans.py:870: FutureWarning: The default value of `n_init` will change from 10 to 'auto' in 1.4. Set the value of `n_init` explicitly to suppress the warning\n",
      "  warnings.warn(\n",
      "/Users/Federico/opt/anaconda3/envs/sklearn-env/lib/python3.11/site-packages/sklearn/cluster/_kmeans.py:870: FutureWarning: The default value of `n_init` will change from 10 to 'auto' in 1.4. Set the value of `n_init` explicitly to suppress the warning\n",
      "  warnings.warn(\n",
      "/Users/Federico/opt/anaconda3/envs/sklearn-env/lib/python3.11/site-packages/sklearn/cluster/_kmeans.py:870: FutureWarning: The default value of `n_init` will change from 10 to 'auto' in 1.4. Set the value of `n_init` explicitly to suppress the warning\n",
      "  warnings.warn(\n",
      "/Users/Federico/opt/anaconda3/envs/sklearn-env/lib/python3.11/site-packages/sklearn/cluster/_kmeans.py:870: FutureWarning: The default value of `n_init` will change from 10 to 'auto' in 1.4. Set the value of `n_init` explicitly to suppress the warning\n",
      "  warnings.warn(\n",
      "/Users/Federico/opt/anaconda3/envs/sklearn-env/lib/python3.11/site-packages/sklearn/cluster/_kmeans.py:870: FutureWarning: The default value of `n_init` will change from 10 to 'auto' in 1.4. Set the value of `n_init` explicitly to suppress the warning\n",
      "  warnings.warn(\n",
      "/Users/Federico/opt/anaconda3/envs/sklearn-env/lib/python3.11/site-packages/sklearn/cluster/_kmeans.py:870: FutureWarning: The default value of `n_init` will change from 10 to 'auto' in 1.4. Set the value of `n_init` explicitly to suppress the warning\n",
      "  warnings.warn(\n",
      "/Users/Federico/opt/anaconda3/envs/sklearn-env/lib/python3.11/site-packages/sklearn/cluster/_kmeans.py:870: FutureWarning: The default value of `n_init` will change from 10 to 'auto' in 1.4. Set the value of `n_init` explicitly to suppress the warning\n",
      "  warnings.warn(\n",
      "/Users/Federico/opt/anaconda3/envs/sklearn-env/lib/python3.11/site-packages/sklearn/cluster/_kmeans.py:870: FutureWarning: The default value of `n_init` will change from 10 to 'auto' in 1.4. Set the value of `n_init` explicitly to suppress the warning\n",
      "  warnings.warn(\n",
      "/Users/Federico/opt/anaconda3/envs/sklearn-env/lib/python3.11/site-packages/sklearn/cluster/_kmeans.py:870: FutureWarning: The default value of `n_init` will change from 10 to 'auto' in 1.4. Set the value of `n_init` explicitly to suppress the warning\n",
      "  warnings.warn(\n",
      "/Users/Federico/opt/anaconda3/envs/sklearn-env/lib/python3.11/site-packages/sklearn/cluster/_kmeans.py:870: FutureWarning: The default value of `n_init` will change from 10 to 'auto' in 1.4. Set the value of `n_init` explicitly to suppress the warning\n",
      "  warnings.warn(\n",
      "/Users/Federico/opt/anaconda3/envs/sklearn-env/lib/python3.11/site-packages/sklearn/cluster/_kmeans.py:870: FutureWarning: The default value of `n_init` will change from 10 to 'auto' in 1.4. Set the value of `n_init` explicitly to suppress the warning\n",
      "  warnings.warn(\n",
      "/Users/Federico/opt/anaconda3/envs/sklearn-env/lib/python3.11/site-packages/sklearn/cluster/_kmeans.py:870: FutureWarning: The default value of `n_init` will change from 10 to 'auto' in 1.4. Set the value of `n_init` explicitly to suppress the warning\n",
      "  warnings.warn(\n",
      "/Users/Federico/opt/anaconda3/envs/sklearn-env/lib/python3.11/site-packages/sklearn/cluster/_kmeans.py:870: FutureWarning: The default value of `n_init` will change from 10 to 'auto' in 1.4. Set the value of `n_init` explicitly to suppress the warning\n",
      "  warnings.warn(\n",
      "/Users/Federico/opt/anaconda3/envs/sklearn-env/lib/python3.11/site-packages/sklearn/cluster/_kmeans.py:870: FutureWarning: The default value of `n_init` will change from 10 to 'auto' in 1.4. Set the value of `n_init` explicitly to suppress the warning\n",
      "  warnings.warn(\n",
      "/Users/Federico/opt/anaconda3/envs/sklearn-env/lib/python3.11/site-packages/sklearn/cluster/_kmeans.py:870: FutureWarning: The default value of `n_init` will change from 10 to 'auto' in 1.4. Set the value of `n_init` explicitly to suppress the warning\n",
      "  warnings.warn(\n",
      "/Users/Federico/opt/anaconda3/envs/sklearn-env/lib/python3.11/site-packages/sklearn/cluster/_kmeans.py:870: FutureWarning: The default value of `n_init` will change from 10 to 'auto' in 1.4. Set the value of `n_init` explicitly to suppress the warning\n",
      "  warnings.warn(\n",
      "/Users/Federico/opt/anaconda3/envs/sklearn-env/lib/python3.11/site-packages/sklearn/cluster/_kmeans.py:870: FutureWarning: The default value of `n_init` will change from 10 to 'auto' in 1.4. Set the value of `n_init` explicitly to suppress the warning\n",
      "  warnings.warn(\n",
      "/Users/Federico/opt/anaconda3/envs/sklearn-env/lib/python3.11/site-packages/sklearn/cluster/_kmeans.py:870: FutureWarning: The default value of `n_init` will change from 10 to 'auto' in 1.4. Set the value of `n_init` explicitly to suppress the warning\n",
      "  warnings.warn(\n"
     ]
    }
   ],
   "source": [
    "#Plot MSE for both FF networks over 50 trials\n",
    "trials = 50\n",
    "mse_ff_bp_val_mu = np.zeros(trials)\n",
    "mse_ff_lm_val_mu = np.zeros(trials)\n",
    "n_hidden = 20\n",
    "for i in range(trials):\n",
    "    FFNetBP = FFNet(3,n_hidden,1)\n",
    "    _ = FFNetBP.trainBackProp(input_train_norm,output_train_norm, 5000, 1e-2, adaptive = True)\n",
    "    _, mse_ff_bp_val_mu[i] = FFNetBP.evaluate(input_val_norm, output_val_norm)\n",
    "\n",
    "    FFNetLM = FFNet(3,n_hidden,1)\n",
    "    _ = FFNetLM.trainLM(input_train_norm, output_train_norm, 5000,  1e-2, adaptive=True)\n",
    "    _, mse_ff_lm_val_mu[i] = FFNetLM.evaluate(input_val_norm, output_val_norm)\n",
    "\n",
    "\n"
   ]
  },
  {
   "cell_type": "code",
   "execution_count": 61,
   "metadata": {},
   "outputs": [
    {
     "data": {
      "image/png": "[encoded data removed]",
      "text/plain": [
       "<Figure size 640x480 with 1 Axes>"
      ]
     },
     "metadata": {},
     "output_type": "display_data"
    }
   ],
   "source": [
    "plt.figure()\n",
    "plt.boxplot([mse_ff_bp_val_mu, mse_ff_lm_val_mu], labels=['Backpropagation', 'Levenberg-Marquardt'])\n",
    "plt.grid()\n",
    "plt.ylabel('MSE[-]')\n",
    "plt.title('MSE for FF network with backpropagation and Levenberg-Marquardt')\n",
    "plt.yscale('log')\n",
    "plt.savefig('plots/MSE_FF.eps', format='eps')"
   ]
  },
  {
   "cell_type": "code",
   "execution_count": null,
   "metadata": {},
   "outputs": [],
   "source": [
    "#Plot the mse values over every epoch for the FF network with Levenberg-Marquardt and backpropagation\n",
    "n_hidden = 10\n",
    "FFNetBP = FFNet(3,n_hidden,1)\n",
    "mse_ff_bp_list = FFNetBP.trainBackProp(input_train_norm,output_train_norm, 2000, 1e-2, adaptive = True)\n",
    "FFNetLM = FFNet(3,n_hidden,1)\n",
    "mse_ff_lm_list = FFNetLM.trainLM(input_train_norm, output_train_norm, 2000,  1e-3, adaptive=True)\n"
   ]
  },
  {
   "cell_type": "code",
   "execution_count": null,
   "metadata": {},
   "outputs": [],
   "source": [
    "\n",
    "plt.figure()\n",
    "plt.plot(mse_ff_bp_list[:250], color = '#00A6D6', label='Backpropagation')\n",
    "plt.plot(mse_ff_lm_list[:250], 'r', label='Levenberg-Marquardt')\n",
    "plt.grid()\n",
    "plt.legend()\n",
    "plt.xlabel('Epoch[-]')\n",
    "plt.ylabel('MSE[-]')\n",
    "plt.title('MSE for FF network with backpropagation and Levenberg-Marquardt')\n",
    "plt.yscale('log')\n",
    "plt.savefig('plots/MSE_FF_epochs.eps', format='eps')\n"
   ]
  },
  {
   "cell_type": "code",
   "execution_count": 52,
   "metadata": {},
   "outputs": [
    {
     "name": "stderr",
     "output_type": "stream",
     "text": [
      "/Users/Federico/opt/anaconda3/envs/sklearn-env/lib/python3.11/site-packages/sklearn/cluster/_kmeans.py:870: FutureWarning: The default value of `n_init` will change from 10 to 'auto' in 1.4. Set the value of `n_init` explicitly to suppress the warning\n",
      "  warnings.warn(\n",
      "The PostScript backend does not support transparency; partially transparent artists will be rendered opaque.\n"
     ]
    },
    {
     "data": {
      "image/png": "[encoded data removed]",
      "text/plain": [
       "<Figure size 640x480 with 1 Axes>"
      ]
     },
     "metadata": {},
     "output_type": "display_data"
    }
   ],
   "source": [
    "from rbf_neural_net.rbf_lm import RbfLMnet\n",
    "#Plot the mse values over every epoch for FF and RBF network with LM\n",
    "n_hidden = 10\n",
    "FFNetBP = FFNet(3,n_hidden,1)\n",
    "mse_ff_bp_list = FFNetBP.trainLM(input_train_norm,output_train_norm, 1000, 1e-3, adaptive = True)\n",
    "\n",
    "RbfLM = RbfLMnet(3,n_hidden,1)\n",
    "_,mse_rbf_lm_list = RbfLM.trainLM(input_train_norm, output_train_norm, 1000,  1e-7, 1e-3,adaptive=True)\n",
    "\n",
    "plt.figure()\n",
    "plt.plot(mse_ff_bp_list, color = '#00A6D6', label='FF network') \n",
    "plt.plot(mse_rbf_lm_list, color = 'r', label='RBF network')\n",
    "plt.grid()\n",
    "plt.legend()\n",
    "plt.xlabel('Epoch[-]')\n",
    "plt.ylabel('MSE[-]')\n",
    "plt.title('MSE for FF and RBF network with Levenberg-Marquardt')\n",
    "plt.yscale('log')\n",
    "plt.savefig('plots/MSE_FF_RBF_epochs.eps', format='eps')\n",
    "\n"
   ]
  },
  {
   "cell_type": "code",
   "execution_count": 50,
   "metadata": {},
   "outputs": [
    {
     "name": "stderr",
     "output_type": "stream",
     "text": [
      "/Users/Federico/opt/anaconda3/envs/sklearn-env/lib/python3.11/site-packages/sklearn/cluster/_kmeans.py:870: FutureWarning: The default value of `n_init` will change from 10 to 'auto' in 1.4. Set the value of `n_init` explicitly to suppress the warning\n",
      "  warnings.warn(\n",
      "/Users/Federico/opt/anaconda3/envs/sklearn-env/lib/python3.11/site-packages/sklearn/cluster/_kmeans.py:870: FutureWarning: The default value of `n_init` will change from 10 to 'auto' in 1.4. Set the value of `n_init` explicitly to suppress the warning\n",
      "  warnings.warn(\n"
     ]
    },
    {
     "name": "stdout",
     "output_type": "stream",
     "text": [
      "Gradient is small enough\n"
     ]
    },
    {
     "name": "stderr",
     "output_type": "stream",
     "text": [
      "/Users/Federico/opt/anaconda3/envs/sklearn-env/lib/python3.11/site-packages/sklearn/cluster/_kmeans.py:870: FutureWarning: The default value of `n_init` will change from 10 to 'auto' in 1.4. Set the value of `n_init` explicitly to suppress the warning\n",
      "  warnings.warn(\n"
     ]
    },
    {
     "name": "stdout",
     "output_type": "stream",
     "text": [
      "Mu too high\n"
     ]
    },
    {
     "name": "stderr",
     "output_type": "stream",
     "text": [
      "/Users/Federico/opt/anaconda3/envs/sklearn-env/lib/python3.11/site-packages/sklearn/cluster/_kmeans.py:870: FutureWarning: The default value of `n_init` will change from 10 to 'auto' in 1.4. Set the value of `n_init` explicitly to suppress the warning\n",
      "  warnings.warn(\n",
      "/Users/Federico/opt/anaconda3/envs/sklearn-env/lib/python3.11/site-packages/sklearn/cluster/_kmeans.py:870: FutureWarning: The default value of `n_init` will change from 10 to 'auto' in 1.4. Set the value of `n_init` explicitly to suppress the warning\n",
      "  warnings.warn(\n",
      "/Users/Federico/opt/anaconda3/envs/sklearn-env/lib/python3.11/site-packages/sklearn/cluster/_kmeans.py:870: FutureWarning: The default value of `n_init` will change from 10 to 'auto' in 1.4. Set the value of `n_init` explicitly to suppress the warning\n",
      "  warnings.warn(\n",
      "/Users/Federico/opt/anaconda3/envs/sklearn-env/lib/python3.11/site-packages/sklearn/cluster/_kmeans.py:870: FutureWarning: The default value of `n_init` will change from 10 to 'auto' in 1.4. Set the value of `n_init` explicitly to suppress the warning\n",
      "  warnings.warn(\n"
     ]
    },
    {
     "ename": "LinAlgError",
     "evalue": "SVD did not converge",
     "output_type": "error",
     "traceback": [
      "\u001b[0;31m---------------------------------------------------------------------------\u001b[0m",
      "\u001b[0;31mLinAlgError\u001b[0m                               Traceback (most recent call last)",
      "Cell \u001b[0;32mIn[50], line 8\u001b[0m\n\u001b[1;32m      6\u001b[0m \u001b[39mfor\u001b[39;00m i \u001b[39min\u001b[39;00m \u001b[39mrange\u001b[39m(trials):\n\u001b[1;32m      7\u001b[0m     FFNetLM \u001b[39m=\u001b[39m FFNet(\u001b[39m3\u001b[39m,n_hidden,\u001b[39m1\u001b[39m)\n\u001b[0;32m----> 8\u001b[0m     _  \u001b[39m=\u001b[39m FFNetLM\u001b[39m.\u001b[39;49mtrainLM(input_train_norm, output_train_norm, \u001b[39m10000\u001b[39;49m,  \u001b[39m1e-3\u001b[39;49m, adaptive\u001b[39m=\u001b[39;49m\u001b[39mTrue\u001b[39;49;00m)\n\u001b[1;32m      9\u001b[0m     _, mse_ff_lm_val_mu[i] \u001b[39m=\u001b[39m FFNetLM\u001b[39m.\u001b[39mevaluate(input_val_norm, output_val_norm)\n\u001b[1;32m     11\u001b[0m     RbfLM \u001b[39m=\u001b[39m RbfLMnet(\u001b[39m3\u001b[39m,n_hidden,\u001b[39m1\u001b[39m)\n",
      "File \u001b[0;32m~/Desktop/Uni_code/Assignment - Neural Networks_2022/SystemID_Nerual_Network/feed_forward_net/feedforward.py:172\u001b[0m, in \u001b[0;36mFFNet.trainLM\u001b[0;34m(self, x_data, output, epochs, learning_rate, goal, adaptive, min_grad)\u001b[0m\n\u001b[1;32m    169\u001b[0m H \u001b[39m=\u001b[39m np\u001b[39m.\u001b[39mdot(J\u001b[39m.\u001b[39mT,J)\n\u001b[1;32m    171\u001b[0m \u001b[39m#Calculate update variable\u001b[39;00m\n\u001b[0;32m--> 172\u001b[0m variables \u001b[39m-\u001b[39m\u001b[39m=\u001b[39m np\u001b[39m.\u001b[39mdot(np\u001b[39m.\u001b[39;49mlinalg\u001b[39m.\u001b[39;49mpinv(H\u001b[39m+\u001b[39;49mlearning_rate\u001b[39m*\u001b[39;49mnp\u001b[39m.\u001b[39;49midentity(H\u001b[39m.\u001b[39;49mshape[\u001b[39m0\u001b[39;49m])),grad)\u001b[39m.\u001b[39mflatten()\n\u001b[1;32m    174\u001b[0m \u001b[39m#Update weights\u001b[39;00m\n\u001b[1;32m    175\u001b[0m \u001b[39mself\u001b[39m\u001b[39m.\u001b[39mIW \u001b[39m=\u001b[39m variables[:\u001b[39mself\u001b[39m\u001b[39m.\u001b[39minput_neurons\u001b[39m*\u001b[39m\u001b[39mself\u001b[39m\u001b[39m.\u001b[39mhidden_neurons]\u001b[39m.\u001b[39mreshape(\u001b[39mself\u001b[39m\u001b[39m.\u001b[39mhidden_neurons,\u001b[39mself\u001b[39m\u001b[39m.\u001b[39minput_neurons)\n",
      "File \u001b[0;32m<__array_function__ internals>:200\u001b[0m, in \u001b[0;36mpinv\u001b[0;34m(*args, **kwargs)\u001b[0m\n",
      "File \u001b[0;32m~/opt/anaconda3/envs/sklearn-env/lib/python3.11/site-packages/numpy/linalg/linalg.py:1983\u001b[0m, in \u001b[0;36mpinv\u001b[0;34m(a, rcond, hermitian)\u001b[0m\n\u001b[1;32m   1981\u001b[0m     \u001b[39mreturn\u001b[39;00m wrap(res)\n\u001b[1;32m   1982\u001b[0m a \u001b[39m=\u001b[39m a\u001b[39m.\u001b[39mconjugate()\n\u001b[0;32m-> 1983\u001b[0m u, s, vt \u001b[39m=\u001b[39m svd(a, full_matrices\u001b[39m=\u001b[39;49m\u001b[39mFalse\u001b[39;49;00m, hermitian\u001b[39m=\u001b[39;49mhermitian)\n\u001b[1;32m   1985\u001b[0m \u001b[39m# discard small singular values\u001b[39;00m\n\u001b[1;32m   1986\u001b[0m cutoff \u001b[39m=\u001b[39m rcond[\u001b[39m.\u001b[39m\u001b[39m.\u001b[39m\u001b[39m.\u001b[39m, newaxis] \u001b[39m*\u001b[39m amax(s, axis\u001b[39m=\u001b[39m\u001b[39m-\u001b[39m\u001b[39m1\u001b[39m, keepdims\u001b[39m=\u001b[39m\u001b[39mTrue\u001b[39;00m)\n",
      "File \u001b[0;32m<__array_function__ internals>:200\u001b[0m, in \u001b[0;36msvd\u001b[0;34m(*args, **kwargs)\u001b[0m\n",
      "File \u001b[0;32m~/opt/anaconda3/envs/sklearn-env/lib/python3.11/site-packages/numpy/linalg/linalg.py:1642\u001b[0m, in \u001b[0;36msvd\u001b[0;34m(a, full_matrices, compute_uv, hermitian)\u001b[0m\n\u001b[1;32m   1639\u001b[0m         gufunc \u001b[39m=\u001b[39m _umath_linalg\u001b[39m.\u001b[39msvd_n_s\n\u001b[1;32m   1641\u001b[0m signature \u001b[39m=\u001b[39m \u001b[39m'\u001b[39m\u001b[39mD->DdD\u001b[39m\u001b[39m'\u001b[39m \u001b[39mif\u001b[39;00m isComplexType(t) \u001b[39melse\u001b[39;00m \u001b[39m'\u001b[39m\u001b[39md->ddd\u001b[39m\u001b[39m'\u001b[39m\n\u001b[0;32m-> 1642\u001b[0m u, s, vh \u001b[39m=\u001b[39m gufunc(a, signature\u001b[39m=\u001b[39;49msignature, extobj\u001b[39m=\u001b[39;49mextobj)\n\u001b[1;32m   1643\u001b[0m u \u001b[39m=\u001b[39m u\u001b[39m.\u001b[39mastype(result_t, copy\u001b[39m=\u001b[39m\u001b[39mFalse\u001b[39;00m)\n\u001b[1;32m   1644\u001b[0m s \u001b[39m=\u001b[39m s\u001b[39m.\u001b[39mastype(_realType(result_t), copy\u001b[39m=\u001b[39m\u001b[39mFalse\u001b[39;00m)\n",
      "File \u001b[0;32m~/opt/anaconda3/envs/sklearn-env/lib/python3.11/site-packages/numpy/linalg/linalg.py:98\u001b[0m, in \u001b[0;36m_raise_linalgerror_svd_nonconvergence\u001b[0;34m(err, flag)\u001b[0m\n\u001b[1;32m     97\u001b[0m \u001b[39mdef\u001b[39;00m \u001b[39m_raise_linalgerror_svd_nonconvergence\u001b[39m(err, flag):\n\u001b[0;32m---> 98\u001b[0m     \u001b[39mraise\u001b[39;00m LinAlgError(\u001b[39m\"\u001b[39m\u001b[39mSVD did not converge\u001b[39m\u001b[39m\"\u001b[39m)\n",
      "\u001b[0;31mLinAlgError\u001b[0m: SVD did not converge"
     ]
    }
   ],
   "source": [
    "#Plot MSE for FF and RBF network with Levenberg-Marquardt over 10 trials\n",
    "trials = 50\n",
    "mse_ff_lm_val_mu = np.zeros(trials)\n",
    "mse_rbf_lm_val_mu = np.zeros(trials)\n",
    "n_hidden = 10\n",
    "for i in range(trials):\n",
    "    FFNetLM = FFNet(3,n_hidden,1)\n",
    "    _  = FFNetLM.trainLM(input_train_norm, output_train_norm, 1000,  1e-3, adaptive=True)\n",
    "    _, mse_ff_lm_val_mu[i] = FFNetLM.evaluate(input_val_norm, output_val_norm)\n",
    "\n",
    "    RbfLM = RbfLMnet(3,n_hidden,1)\n",
    "    _, _ = RbfLM.trainLM(input_train_norm, output_train_norm, 1000,  1e-7, 1e-3, adaptive=True)\n",
    "    _, mse_rbf_lm_val_mu[i] = RbfLM.evaluate(input_val_norm, output_val_norm)\n",
    "\n",
    "plt.figure()\n",
    "plt.boxplot([mse_ff_lm_val_mu, mse_rbf_lm_val_mu], labels=['FF network', 'RBF network'])\n",
    "plt.grid()\n",
    "plt.ylabel('MSE[-]')\n",
    "plt.title('MSE for FF and RBF network with Levenberg-Marquardt')\n",
    "plt.yscale('log')\n",
    "plt.savefig('plots/MSE_FF_RBF.eps', format='eps')"
   ]
  }
 ],
 "metadata": {
  "kernelspec": {
   "display_name": "sklearn-env",
   "language": "python",
   "name": "python3"
  },
  "language_info": {
   "codemirror_mode": {
    "name": "ipython",
    "version": 3
   },
   "file_extension": ".py",
   "mimetype": "text/x-python",
   "name": "python",
   "nbconvert_exporter": "python",
   "pygments_lexer": "ipython3",
   "version": "3.11.0"
  },
  "orig_nbformat": 4,
  "vscode": {
   "interpreter": {
    "hash": "8e4c3cbd8ae1b10a6e9d961e77281755e6724fb80ccab58d8094889731af74d6"
   }
  }
 },
 "nbformat": 4,
 "nbformat_minor": 2
}
